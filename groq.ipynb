{
 "cells": [
  {
   "cell_type": "code",
   "execution_count": 2,
   "id": "5bf31040",
   "metadata": {},
   "outputs": [
    {
     "name": "stdout",
     "output_type": "stream",
     "text": [
      "Requirement already satisfied: langchain_groq in c:\\users\\pindr\\anaconda3\\lib\\site-packages (0.2.1)\n",
      "Requirement already satisfied: groq in c:\\users\\pindr\\anaconda3\\lib\\site-packages (0.13.0)\n",
      "Requirement already satisfied: langchain-core<0.4.0,>=0.3.15 in c:\\users\\pindr\\anaconda3\\lib\\site-packages (from langchain_groq) (0.3.22)\n",
      "Requirement already satisfied: distro<2,>=1.7.0 in c:\\users\\pindr\\anaconda3\\lib\\site-packages (from groq) (1.9.0)\n",
      "Requirement already satisfied: httpx<1,>=0.23.0 in c:\\users\\pindr\\anaconda3\\lib\\site-packages (from groq) (0.28.1)\n",
      "Requirement already satisfied: anyio<5,>=3.5.0 in c:\\users\\pindr\\anaconda3\\lib\\site-packages (from groq) (3.5.0)\n",
      "Requirement already satisfied: pydantic<3,>=1.9.0 in c:\\users\\pindr\\anaconda3\\lib\\site-packages (from groq) (2.9.2)\n",
      "Requirement already satisfied: typing-extensions<5,>=4.7 in c:\\users\\pindr\\anaconda3\\lib\\site-packages (from groq) (4.10.0)\n",
      "Requirement already satisfied: sniffio in c:\\users\\pindr\\anaconda3\\lib\\site-packages (from groq) (1.2.0)\n",
      "Requirement already satisfied: idna>=2.8 in c:\\users\\pindr\\anaconda3\\lib\\site-packages (from anyio<5,>=3.5.0->groq) (3.3)\n",
      "Requirement already satisfied: certifi in c:\\users\\pindr\\anaconda3\\lib\\site-packages (from httpx<1,>=0.23.0->groq) (2022.9.14)\n",
      "Requirement already satisfied: httpcore==1.* in c:\\users\\pindr\\anaconda3\\lib\\site-packages (from httpx<1,>=0.23.0->groq) (1.0.7)\n",
      "Requirement already satisfied: h11<0.15,>=0.13 in c:\\users\\pindr\\anaconda3\\lib\\site-packages (from httpcore==1.*->httpx<1,>=0.23.0->groq) (0.14.0)\n",
      "Requirement already satisfied: jsonpatch<2.0,>=1.33 in c:\\users\\pindr\\anaconda3\\lib\\site-packages (from langchain-core<0.4.0,>=0.3.15->langchain_groq) (1.33)\n",
      "Requirement already satisfied: PyYAML>=5.3 in c:\\users\\pindr\\anaconda3\\lib\\site-packages (from langchain-core<0.4.0,>=0.3.15->langchain_groq) (6.0)\n",
      "Requirement already satisfied: langsmith<0.2.0,>=0.1.125 in c:\\users\\pindr\\anaconda3\\lib\\site-packages (from langchain-core<0.4.0,>=0.3.15->langchain_groq) (0.1.147)\n",
      "Requirement already satisfied: packaging<25,>=23.2 in c:\\users\\pindr\\anaconda3\\lib\\site-packages (from langchain-core<0.4.0,>=0.3.15->langchain_groq) (24.2)\n",
      "Requirement already satisfied: tenacity!=8.4.0,<10.0.0,>=8.1.0 in c:\\users\\pindr\\anaconda3\\lib\\site-packages (from langchain-core<0.4.0,>=0.3.15->langchain_groq) (9.0.0)\n",
      "Requirement already satisfied: pydantic-core==2.23.4 in c:\\users\\pindr\\anaconda3\\lib\\site-packages (from pydantic<3,>=1.9.0->groq) (2.23.4)\n",
      "Requirement already satisfied: annotated-types>=0.6.0 in c:\\users\\pindr\\anaconda3\\lib\\site-packages (from pydantic<3,>=1.9.0->groq) (0.7.0)\n",
      "Requirement already satisfied: jsonpointer>=1.9 in c:\\users\\pindr\\anaconda3\\lib\\site-packages (from jsonpatch<2.0,>=1.33->langchain-core<0.4.0,>=0.3.15->langchain_groq) (3.0.0)\n",
      "Requirement already satisfied: requests-toolbelt<2.0.0,>=1.0.0 in c:\\users\\pindr\\anaconda3\\lib\\site-packages (from langsmith<0.2.0,>=0.1.125->langchain-core<0.4.0,>=0.3.15->langchain_groq) (1.0.0)\n",
      "Requirement already satisfied: orjson<4.0.0,>=3.9.14 in c:\\users\\pindr\\anaconda3\\lib\\site-packages (from langsmith<0.2.0,>=0.1.125->langchain-core<0.4.0,>=0.3.15->langchain_groq) (3.10.12)\n",
      "Requirement already satisfied: requests<3,>=2 in c:\\users\\pindr\\anaconda3\\lib\\site-packages (from langsmith<0.2.0,>=0.1.125->langchain-core<0.4.0,>=0.3.15->langchain_groq) (2.28.1)\n",
      "Requirement already satisfied: charset-normalizer<3,>=2 in c:\\users\\pindr\\anaconda3\\lib\\site-packages (from requests<3,>=2->langsmith<0.2.0,>=0.1.125->langchain-core<0.4.0,>=0.3.15->langchain_groq) (2.0.4)\n",
      "Requirement already satisfied: urllib3<1.27,>=1.21.1 in c:\\users\\pindr\\anaconda3\\lib\\site-packages (from requests<3,>=2->langsmith<0.2.0,>=0.1.125->langchain-core<0.4.0,>=0.3.15->langchain_groq) (1.26.11)\n",
      "Note: you may need to restart the kernel to use updated packages.\n"
     ]
    }
   ],
   "source": [
    "pip install --upgrade langchain_groq groq\n"
   ]
  },
  {
   "cell_type": "code",
   "execution_count": 5,
   "id": "1da501af",
   "metadata": {},
   "outputs": [
    {
     "name": "stderr",
     "output_type": "stream",
     "text": [
      "ERROR: pip's dependency resolver does not currently take into account all the packages that are installed. This behaviour is the source of the following dependency conflicts.\n",
      "conda-repo-cli 1.0.20 requires clyent==1.2.1, but you have clyent 1.2.2 which is incompatible.\n",
      "conda-repo-cli 1.0.20 requires nbformat==5.4.0, but you have nbformat 5.5.0 which is incompatible.\n"
     ]
    }
   ],
   "source": [
    "!pip install -q -U langchain langchain_core "
   ]
  },
  {
   "cell_type": "code",
   "execution_count": 7,
   "id": "8dc495a3",
   "metadata": {},
   "outputs": [
    {
     "name": "stdout",
     "output_type": "stream",
     "text": [
      "The first person to walk on the Moon was Neil Armstrong, an American astronaut who stepped out of the lunar module Eagle and onto the Moon's surface on July 20, 1969, during the Apollo 11 mission. Armstrong famously declared, \"That's one small step for man, one giant leap for mankind,\" as he became the first human to set foot on the Moon.\n"
     ]
    }
   ],
   "source": [
    "from langchain_groq import ChatGroq\n",
    "\n",
    "llm = ChatGroq(\n",
    "    model=\"llama3-8b-8192\",\n",
    "    temperature=0,\n",
    "    api_key='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',\n",
    "    max_tokens=None,\n",
    "    timeout=None,\n",
    "    max_retries=2,\n",
    "    # other params...\n",
    ")\n",
    "\n",
    "response = llm.invoke(\"The first person to land on moon was ...\")\n",
    "print(response.content)"
   ]
  },
  {
   "cell_type": "code",
   "execution_count": null,
   "id": "583602ed",
   "metadata": {},
   "outputs": [],
   "source": []
  },
  {
   "cell_type": "code",
   "execution_count": null,
   "id": "ad73b9fe",
   "metadata": {},
   "outputs": [],
   "source": [
    "\n"
   ]
  },
  {
   "cell_type": "code",
   "execution_count": null,
   "id": "e55f1795",
   "metadata": {},
   "outputs": [],
   "source": []
  },
  {
   "cell_type": "code",
   "execution_count": null,
   "id": "362475c7",
   "metadata": {},
   "outputs": [],
   "source": []
  },
  {
   "cell_type": "code",
   "execution_count": null,
   "id": "f1fc2b6c",
   "metadata": {},
   "outputs": [],
   "source": []
  }
 ],
 "metadata": {
  "kernelspec": {
   "display_name": "Python 3 (ipykernel)",
   "language": "python",
   "name": "python3"
  },
  "language_info": {
   "codemirror_mode": {
    "name": "ipython",
    "version": 3
   },
   "file_extension": ".py",
   "mimetype": "text/x-python",
   "name": "python",
   "nbconvert_exporter": "python",
   "pygments_lexer": "ipython3",
   "version": "3.9.13"
  }
 },
 "nbformat": 4,
 "nbformat_minor": 5
}
