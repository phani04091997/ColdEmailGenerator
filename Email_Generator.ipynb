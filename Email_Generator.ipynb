{
 "cells": [
  {
   "cell_type": "code",
   "execution_count": 1,
   "id": "fba80b80",
   "metadata": {},
   "outputs": [
    {
     "name": "stdout",
     "output_type": "stream",
     "text": [
      "According to NASA's Apollo 11 mission, the first person to set foot on the Moon was Neil Armstrong. He stepped out of the lunar module Eagle and onto the Moon's surface on July 20, 1969, at 2:56 UTC. Armstrong famously declared, \"That's one small step for man, one giant leap for mankind,\" as he became the first human to set foot on the Moon.\n"
     ]
    }
   ],
   "source": [
    "from langchain_groq import ChatGroq\n",
    "\n",
    "llm = ChatGroq(\n",
    "    model=\"llama3-8b-8192\",\n",
    "    temperature=0,\n",
    "    api_key='',\n",
    "    max_tokens=512,\n",
    "    timeout=None,\n",
    "    max_retries=2,\n",
    "    # other params...\n",
    ")\n",
    "\n",
    "response = llm.invoke(\"The first person to land on moon was ...\")\n",
    "print(response.content)"
   ]
  },
  {
   "cell_type": "code",
   "execution_count": 2,
   "id": "64a3f81c",
   "metadata": {},
   "outputs": [
    {
     "name": "stderr",
     "output_type": "stream",
     "text": [
      "USER_AGENT environment variable not set, consider setting it to identify your requests.\n"
     ]
    },
    {
     "name": "stdout",
     "output_type": "stream",
     "text": [
      "Software Development Engineer - Job ID: 2848228 | Amazon.jobs\n",
      "Skip to main contentHomeTeamsLocationsJob categoriesMy careerMy applicationsMy profileAccount securitySettingsSign outResourcesDisability accommodationsBenefitsDiversity, equity, and inclusionInterview tipsLeadership principlesWorking at AmazonFAQ×Software Development EngineerJob ID: 2848228 | Amazon.com Services LLCApply nowDESCRIPTIONDo you enjoy solving complex problems with simple solutions? Would you like to help us innovate on behalf of Amazon’s Digital and Device customers?Device, Digital and Alexa Support (D2AS) technology organization is seeking an experienced software development engineer to join the engineering team. The D2AS vision is to create innovative support experiences for customers of Amazon’s devices and digital products, through intelligent self-service solutions and enabling our tech-support organization with tools and technology. The job will give you direct experience building software included on the Amazon Echo, Amazon Fire, and Amazon mobile apps, helping millions on customers around the world.You're an awesome fit if you demonstrate:- Industry-leading technical abilities showcasing a breadth and depth of technical knowledge.- The ability to build good working relationships within the team by communicating clearly both verbally and in writing.- Strong problem solving and trouble shooting skills with the ability to come up with creative solutions to seemingly impossible engineering problems.- A passion to work with smart home devices.Key job responsibilities - Solve difficult engineering problems with elegant and practical code.- Help define engineering best practices and providing technical mentorship to other members of the engineering team.- Be a champion for the customer and ensuring their needs always come first.- Design and build software for mobile, front end clients and server systems.We use agile development strategies and want software engineering leaders who can thrive in a fast paced, high-energy work environment.A day in the lifeWe thrive on solving challenging problems to innovate for our customers. By pushing the boundaries of technology, we create unparalleled experiences that enable us to rapidly adapt in a dynamic environment. Our decisions are guided by data, and we collaborate with engineering, science, and product teams to foster an innovative learning environment.If you are not sure that every qualification on the list above describes you exactly, we'd still love to hear from you! At Amazon, we value people with unique backgrounds, experiences, and skillsets. If you’re passionate about this role and want to make an impact on a global scale, please apply!Benefits Summary: Amazon offers a full range of benefits that support you and eligible family members, including domestic partners and their children. Benefits can vary by location, the number of regularly scheduled hours you work, length of employment, and job status such as seasonal or temporary employment. The benefits that generally apply to regular, full-time employees include: 1. Medical, Dental, and Vision Coverage 2. Maternity and Parental Leave Options 3. Paid Time Off (PTO) 4. 401(k) PlanAbout the teamWe at D2AS strive to make digital experiences effortless for customers. Our goal is to anticipate, evaluate, prevent, and eliminate any effort required from customers. We achieve this by setting the strategy for digital support and accelerating the delivery of seamless support experiences across Amazon's digital products.Our team combines strategic thinking, technology expertise, and customer experience best practices. This ensures customers can easily get the most value from Amazon's digital offerings. We focus on providing the right support at the right time, tailored to each customer's needs. By eliminating friction and making support effortless, we enhance the overall customer experience.BASIC QUALIFICATIONS- 3+ years of non-internship professional software development experience- 2+ years of non-internship design or architecture (design patterns, reliability and scaling) of new and existing systems experience- Experience programming with at least one software programming languagePREFERRED QUALIFICATIONS- 3+ years of full software development life cycle, including coding standards, code reviews, source control management, build processes, testing, and operations experience- Bachelor's degree in computer science or equivalentAmazon is committed to a diverse and inclusive workplace. Amazon is an equal opportunity employer and does not discriminate on the basis of race, national origin, gender, gender identity, sexual orientation, protected veteran status, disability, age, or other legally protected status.Our inclusive culture empowers Amazonians to deliver the best results for our customers. If you have a disability and need a workplace accommodation or adjustment during the application and hiring process, including support for the interview or onboarding process, please visit https://amazon.jobs/content/en/how-we-hire/accommodations for more information. If the country/region you’re applying in isn’t listed, please contact your Recruiting Partner.Job detailsUSA, TX, AustinDevice, Digital, & Alexa SupportSoftware DevelopmentShare this jobJOIN US ONFind CareersJob CategoriesTeamsLocationsUS and EU Military recruitingWarehouse and Hourly JobsWorking At AmazonCultureBenefitsAmazon NewsletterDiversity at AmazonOur leadership principlesHelpFAQInterview tipsReview application statusDisability accommodationsEU background checksAmazon is committed to a diverse and inclusive workplace. Amazon is an equal opportunity employer and does not discriminate on the basis of race, national origin, gender, gender identity, sexual orientation, protected veteran status, disability, age, or other legally protected status.Privacy and DataImpressum© 1996-2024, Amazon.com, Inc. or its affiliates\n"
     ]
    }
   ],
   "source": [
    "from langchain_community.document_loaders import WebBaseLoader\n",
    "\n",
    "loader = WebBaseLoader(\"https://www.amazon.jobs/en/jobs/2848228/software-development-engineer?cmpid=SPLICX0248M&utm_source=linkedin.com&utm_campaign=cxro&utm_medium=social_media&utm_content=job_posting&ss=paid\")\n",
    "page_data = loader.load().pop().page_content\n",
    "print(page_data)"
   ]
  },
  {
   "cell_type": "code",
   "execution_count": 3,
   "id": "df74e3ae",
   "metadata": {},
   "outputs": [
    {
     "name": "stdout",
     "output_type": "stream",
     "text": [
      "{\n",
      "    \"role\": \"Software Development Engineer\",\n",
      "    \"experience\": {\n",
      "        \"min\": 3,\n",
      "        \"max\": null,\n",
      "        \"type\": \"years\",\n",
      "        \"description\": \"non-internship professional software development experience\"\n",
      "    },\n",
      "    \"skills\": {\n",
      "        \"programming languages\": [\n",
      "            \"at least one software programming language\"\n",
      "        ],\n",
      "        \"design\": [\n",
      "            \"design patterns\",\n",
      "            \"reliability and scaling\"\n",
      "        ],\n",
      "        \"full software development life cycle\": [\n",
      "            \"coding standards\",\n",
      "            \"code reviews\",\n",
      "            \"source control management\",\n",
      "            \"build processes\",\n",
      "            \"testing\",\n",
      "            \"operations\"\n",
      "        ]\n",
      "    },\n",
      "    \"description\": \"Do you enjoy solving complex problems with simple solutions? Would you like to help us innovate on behalf of Amazon\\u2019s Digital and Device customers? Device, Digital and Alexa Support (D2AS) technology organization is seeking an experienced software development engineer to join the engineering team.\"\n",
      "}\n"
     ]
    }
   ],
   "source": [
    "from langchain_core.prompts import PromptTemplate\n",
    "import json\n",
    "import re\n",
    "\n",
    "# Define the prompt template\n",
    "prompt_extract = PromptTemplate.from_template(\n",
    "    \"\"\"\n",
    "    ### SCRAPED TEXT FROM WEBSITE:\n",
    "    {page_data}\n",
    "    ### INSTRUCTION:\n",
    "    The scraped text is from the career's page of a website.\n",
    "    Your job is to extract the job postings and return them in JSON format containing the \n",
    "    following keys: `role`, `experience`, `skills`, and `description`.\n",
    "    Return only the JSON, without any additional text, explanations, or preamble.\n",
    "    ### VALID JSON (NO PREAMBLE):    \n",
    "    \"\"\"\n",
    ")\n",
    "\n",
    "# Execute the chain\n",
    "chain_extract = prompt_extract | llm \n",
    "res = chain_extract.invoke(input={'page_data': page_data})\n",
    "\n",
    "# Raw response from the LLM\n",
    "raw_response = res.content\n",
    "\n",
    "# Use regex to extract valid JSON\n",
    "match = re.search(r'\\{.*\\}', raw_response, re.DOTALL)\n",
    "if match:\n",
    "    json_part = match.group()  # Extract the JSON part\n",
    "    try:\n",
    "        extracted_json = json.loads(json_part)  # Parse JSON\n",
    "        print(json.dumps(extracted_json, indent=4))  # Pretty-print the JSON\n",
    "    except json.JSONDecodeError as e:\n",
    "        print(\"Error: The extracted text is not valid JSON.\", e)\n",
    "else:\n",
    "    print(\"Error: No valid JSON found in the response.\")"
   ]
  },
  {
   "cell_type": "code",
   "execution_count": null,
   "id": "424b96e4",
   "metadata": {},
   "outputs": [],
   "source": []
  },
  {
   "cell_type": "code",
   "execution_count": 4,
   "id": "af5a5dc2",
   "metadata": {},
   "outputs": [
    {
     "data": {
      "text/plain": [
       "{'role': 'Software Development Engineer',\n",
       " 'experience': {'min': 3,\n",
       "  'max': None,\n",
       "  'type': 'years',\n",
       "  'description': 'non-internship professional software development experience'},\n",
       " 'skills': {'programming languages': ['at least one software programming language'],\n",
       "  'design': ['design patterns', 'reliability and scaling'],\n",
       "  'full software development life cycle': ['coding standards',\n",
       "   'code reviews',\n",
       "   'source control management',\n",
       "   'build processes',\n",
       "   'testing',\n",
       "   'operations']},\n",
       " 'description': 'Do you enjoy solving complex problems with simple solutions? Would you like to help us innovate on behalf of Amazon’s Digital and Device customers? Device, Digital and Alexa Support (D2AS) technology organization is seeking an experienced software development engineer to join the engineering team.'}"
      ]
     },
     "execution_count": 4,
     "metadata": {},
     "output_type": "execute_result"
    }
   ],
   "source": [
    "from langchain_core.output_parsers import JsonOutputParser\n",
    "\n",
    "json_parser = JsonOutputParser()\n",
    "json_res = json_parser.parse(raw_response)\n",
    "json_res"
   ]
  },
  {
   "cell_type": "code",
   "execution_count": null,
   "id": "927ee0c9",
   "metadata": {},
   "outputs": [],
   "source": []
  },
  {
   "cell_type": "code",
   "execution_count": null,
   "id": "92d86032",
   "metadata": {},
   "outputs": [],
   "source": []
  },
  {
   "cell_type": "code",
   "execution_count": null,
   "id": "0397fc1b",
   "metadata": {},
   "outputs": [],
   "source": []
  },
  {
   "cell_type": "code",
   "execution_count": null,
   "id": "fc0c1a4c",
   "metadata": {},
   "outputs": [],
   "source": []
  },
  {
   "cell_type": "code",
   "execution_count": null,
   "id": "07e4b09e",
   "metadata": {},
   "outputs": [],
   "source": []
  },
  {
   "cell_type": "code",
   "execution_count": 5,
   "id": "457b8d6a",
   "metadata": {},
   "outputs": [
    {
     "name": "stdout",
     "output_type": "stream",
     "text": [
      "Collection now has 22 items.\n"
     ]
    }
   ],
   "source": [
    "import uuid\n",
    "import chromadb\n",
    "import json\n",
    "from sentence_transformers import SentenceTransformer\n",
    "\n",
    "# Initialize ChromaDB persistent client\n",
    "client = chromadb.PersistentClient(path=\"vectorstore\")\n",
    "\n",
    "# Create or get a collection\n",
    "collection = client.get_or_create_collection(name=\"resume\")\n",
    "\n",
    "# Define your resume sections\n",
    "resume_sections = {\n",
    "    \n",
    "    \"Technical Skills\": \"\"\"Programming Languages: C, C#, Java, Python, HTML5, CSS, JavaScript, TypeScript, JSON\n",
    "Frameworks & Technologies: .NET (WinForms, WPF with MVVM, ASP.NET MVC Core), Entity Framework, ADO.NET, Angular, React, Node.js, Razor, Bootstrap v5, Dependency Injection, Swagger, SSIS, SSRS, PowerShell, Visual Studio Extensibility, Spring Boot, Agile/Scrum, CI/CD\n",
    "Databases & Machine Learning: SQL, PL/SQL, Microsoft SQL Server, MongoDB, PostgreSQL, Scikit-learn, Pandas\n",
    "Cloud Platforms: Azure, AWS (S3, Lambda, EC2, RDS), GCP\n",
    "Tools & Version Control: Jenkins, JIRA, TortoiseSVN, Git, Bitbucket, Postman, Visual Studio, IntelliJ, Harness, OpenShift\n",
    "Certifications: Microsoft Certified: Azure Fundamenta\"\"\",\n",
    "    \n",
    "    \"Professional Experience\": \"\"\"Student Assistant, REGARDS Study, UAB, Birmingham, Alabama August 2023 – April 2024\n",
    "Developed a patient records management system in ASP.NET Core Web App, enhancing data accuracy and reliability by 30% through real-time updates based on patient profiles, medical histories, survey responses, and real-time health monitoring data.\n",
    "Designed reusable UI components (Partial Views, Layouts, Razor CRUD), reducing development time by 30% and improving platform-wide UI consistency.\n",
    "Architected Data Access Layers using ADO.NET and Entity Framework, reducing data retrieval times by 35%. Managed backend services (RESTful, SOAP, WCF and Web APIs), boosting data exchange efficiency by 30%.\n",
    "Software Engineer – UNISYS India Pvt Ltd., India April 2021 – December 2022\n",
    "Constructed Web APIs with ASP.NET Core 6.0 for a banking alert system, processing over 1 million alerts daily via OpenShift, ensuring seamless customer notifications.\n",
    "Optimized Microsoft SQL Server with efficient Data Access Layers (ADO.NET, Entity Framework), reducing query times by 40% for better database performance.\n",
    "Engineered React JS components (JSX, props, hooks), boosting user engagement by 30% and improving load times by 25% through an interactive user interface.\n",
    "Utilized Swagger and Postman for API documentation and testing, reducing API error rates by 20%.\n",
    "Enhanced a custom domain-driven microservices architecture by implementing CQRS and MediatR design patterns, resulting in a 30% improvement in system scalability and maintainability.\n",
    "Worked in Agile/Scrum using JIRA for project management and GitHub for code management. Implemented GitHub Actions and Harness in the CI/CD pipeline, boosting deployment efficiency by 35% on OpenShift.\n",
    "Associate Software Engineer – UNISYS India Pvt Ltd., India June 2019 – April 2021\n",
    "Augmented MCP Project with Visual Studio extensibility features, improving user experience by 75%.\n",
    "Designed WPF, Custom Controls, User Controls and WinForms using MVVM patterns, boosting UI responsiveness by 30% and user satisfaction by 20%.\n",
    "Led the development and deployment of a custom debug engine integrated with the MCP Program, revolutionizing debugging capabilities for specialized languages such as Algol and Cobol files.\n",
    "Contributed significantly (50%) to the Azure Network Watcher research group for MCP, specializing in enhancing network health for MCP's IaaS products, including Virtual Machines, Servers, Virtual Networks, Application Gateways, and Load Balancers.\n",
    "Created continuous integration and delivery pipelines using Jenkins, reducing deployment time by 40% and increasing deployment frequency by 30%. Managed diverse Agile/Scrum assignments, resolved 200+ bugs, and employed Tortoise SVN for version control.\"\"\",\n",
    "    \n",
    "    \"Project Work\": \"\"\"Event Management App: Web app for customers to explore event services; used React, NodeJS, MongoDB.\n",
    "IPL Result Prediction: Predicted IPL tournament results with data models; used Python, Flask, Pandas.\n",
    "Human Activity Mining: Analyzed routines to provide health care suggestions; achieved 92% accuracy using RNN.\"\"\"\n",
    "}\n",
    "\n",
    "# Add sections to the collection with embeddings\n",
    "embedder = SentenceTransformer('all-MiniLM-L6-v2')\n",
    "\n",
    "# Embed the resume sections and add them to the collection\n",
    "for section, content in resume_sections.items():\n",
    "    section_embedding = embedder.encode([content])\n",
    "    collection.add(\n",
    "        documents=[content],\n",
    "        metadatas=[{\"section\": section}],\n",
    "        embeddings=section_embedding,\n",
    "        ids=[str(uuid.uuid4())]\n",
    "    )\n",
    "\n",
    "# Confirm successful storage\n",
    "print(f\"Collection now has {collection.count()} items.\")"
   ]
  },
  {
   "cell_type": "code",
   "execution_count": 8,
   "id": "1167ab64",
   "metadata": {},
   "outputs": [
    {
     "data": {
      "text/plain": [
       "[[{'section': 'Professional Experience'},\n",
       "  {'section': 'Professional Experience'},\n",
       "  {'section': 'Professional Experience'},\n",
       "  {'section': 'Technical Skills'},\n",
       "  {'section': 'Technical Skills'},\n",
       "  {'section': 'Technical Skills'},\n",
       "  {'section': 'Education'},\n",
       "  {'section': 'Education'},\n",
       "  {'section': 'Education'},\n",
       "  {'section': 'Education'}]]"
      ]
     },
     "execution_count": 8,
     "metadata": {},
     "output_type": "execute_result"
    }
   ],
   "source": [
    "links = collection.query(query_texts=str(json_res)).get('metadatas', [])\n",
    "links"
   ]
  },
  {
   "cell_type": "code",
   "execution_count": 6,
   "id": "0ebbd10d",
   "metadata": {},
   "outputs": [
    {
     "name": "stdout",
     "output_type": "stream",
     "text": [
      "Matching links based on the job description:\n",
      "['Student Assistant: Developed a patient records management system improving data accuracy by 30%.\\nSoftware Engineer: Built banking alert systems processing over 1M alerts daily; optimized databases for 40% faster query performance.\\nAssociate Software Engineer: Improved debugging for specialized languages; enhanced MCP with Azure Network Watcher.', 'Student Assistant: Developed a patient records management system improving data accuracy by 30%.\\nSoftware Engineer: Built banking alert systems processing over 1M alerts daily; optimized databases for 40% faster query performance.\\nAssociate Software Engineer: Improved debugging for specialized languages; enhanced MCP with Azure Network Watcher.', 'Student Assistant: Developed a patient records management system improving data accuracy by 30%.\\nSoftware Engineer: Built banking alert systems processing over 1M alerts daily; optimized databases for 40% faster query performance.\\nAssociate Software Engineer: Improved debugging for specialized languages; enhanced MCP with Azure Network Watcher.', 'Master’s in Computer Science: University of Alabama at Birmingham | Jan 2023 – Apr 2024 | GPA: 4/4\\nBachelor’s in Computer Science and Engineering: Pondicherry Engineering College | Aug 2015 – May 2019 | GPA: 8.3/10', 'Master’s in Computer Science: University of Alabama at Birmingham | Jan 2023 – Apr 2024 | GPA: 4/4\\nBachelor’s in Computer Science and Engineering: Pondicherry Engineering College | Aug 2015 – May 2019 | GPA: 8.3/10']\n"
     ]
    }
   ],
   "source": [
    "# Your job description as a JSON object\n",
    "job_description_json = json_res\n",
    "\n",
    "# Convert job description to text (you can modify the structure to match your query requirements)\n",
    "job_description_text = json.dumps(job_description_json)\n",
    "\n",
    "# Generate embeddings for the job description\n",
    "job_description_embedding = embedder.encode([job_description_text])\n",
    "\n",
    "# Query the collection to find matching sections based on the job description\n",
    "search_results = collection.query(\n",
    "    query_embeddings=job_description_embedding,  # Pass the embeddings of the job description\n",
    "    n_results=5  # Fetch top 5 results\n",
    ")\n",
    "\n",
    "# Extract the relevant \"links\" from the matching results\n",
    "matching_links = []\n",
    "for result in search_results['documents']:\n",
    "    matching_links.append(result)\n",
    "\n",
    "# Display the matching links based on the job description\n",
    "print(\"Matching links based on the job description:\")\n",
    "for link in matching_links:\n",
    "    print(link)\n"
   ]
  },
  {
   "cell_type": "code",
   "execution_count": 7,
   "id": "0fabab9e",
   "metadata": {},
   "outputs": [
    {
     "name": "stdout",
     "output_type": "stream",
     "text": [
      "Subject: Application for Software Development Engineer Role at Amazon\n",
      "\n",
      "Dear Hiring Manager,\n",
      "\n",
      "I came across the job posting for a Software Development Engineer at Amazon's Device, Digital and Alexa Support (D2AS) technology organization and was excited to see that my skills and experience align with the requirements. With over 3 years of non-internship professional software development experience, I am confident that I can make a valuable contribution to your team.\n",
      "\n",
      "As a seasoned software engineer, I have developed scalable systems, built REST APIs, and worked on both frontend and backend technologies. My technical experience spans various domains, including cloud (AWS), databases (MySQL, MongoDB), UI development (React, Angular), and backend systems (Node.js, Java). I am well-versed in design patterns, reliability, and scaling, and have experience with full software development life cycle, including coding standards, code reviews, source control management, build processes, testing, and operations.\n",
      "\n",
      "I would like to highlight a few projects from my portfolio that demonstrate my skills and experience. For instance, as a Student Assistant, I developed a patient records management system that improved data accuracy by 30%. As a Software Engineer, I built banking alert systems that processed over 1M alerts daily, and optimized databases for 40% faster query performance. Additionally, I improved debugging for specialized languages and enhanced MCP with Azure Network Watcher.\n",
      "\n",
      "I have attached my resume, which provides more details about my education and experience. I would be thrilled to discuss my application and how I can contribute to the D2AS team. Please feel free to reach out to me at your convenience.\n",
      "\n",
      "Thank you for considering my application. I look forward to the opportunity to discuss this further.\n",
      "\n",
      "Best regards,\n",
      "\n",
      "Phanendra Sai Sree Vinay Alapaka\n"
     ]
    }
   ],
   "source": [
    "from langchain.prompts import PromptTemplate\n",
    "\n",
    "# Generate the email template with an updated prompt that aligns job description with resume\n",
    "prompt_email = PromptTemplate.from_template(\n",
    "    \"\"\"\n",
    "    ### JOB DESCRIPTION:\n",
    "    {job_description}\n",
    "\n",
    "    ### INSTRUCTION:\n",
    "    You are Phanendra Sai Sree Vinay Alapaka, a software engineer with extensive experience in developing scalable systems, building REST APIs, and working on both frontend and backend technologies. Your job is to write a cold email to the client regarding the job mentioned above, describing how your skills align with their requirements. You should also mention your technical experience in various domains such as cloud, databases, UI development, and backend systems.\n",
    "    \n",
    "    Remember you are Phanendra Sai Sree Vinay Alapaka. \n",
    "    Do not provide a preamble.\n",
    "\n",
    "    ### EMAIL (NO PREAMBLE):\n",
    "    \"\"\"\n",
    ")\n",
    "\n",
    "# Assuming 'llm' is a language model for generating the email\n",
    "chain_email = prompt_email | llm\n",
    "res = chain_email.invoke({\"job_description\": job_description_text, \"link_list\": matching_links})\n",
    "print(res.content)\n"
   ]
  },
  {
   "cell_type": "code",
   "execution_count": null,
   "id": "ca47a06b",
   "metadata": {},
   "outputs": [],
   "source": []
  }
 ],
 "metadata": {
  "kernelspec": {
   "display_name": "Python 3 (ipykernel)",
   "language": "python",
   "name": "python3"
  },
  "language_info": {
   "codemirror_mode": {
    "name": "ipython",
    "version": 3
   },
   "file_extension": ".py",
   "mimetype": "text/x-python",
   "name": "python",
   "nbconvert_exporter": "python",
   "pygments_lexer": "ipython3",
   "version": "3.9.13"
  }
 },
 "nbformat": 4,
 "nbformat_minor": 5
}
